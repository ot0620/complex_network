{
 "cells": [
  {
   "cell_type": "markdown",
   "source": [
    "ライブラリのインポート"
   ],
   "metadata": {
    "collapsed": false
   },
   "id": "33c51730acc1bb37"
  },
  {
   "cell_type": "code",
   "outputs": [],
   "source": [
    "from tqdm import tqdm\n",
    "from graph_tool.all import *\n",
    "import os\n",
    "import graph_tool.all as gt\n",
    "import scipy as sp\n",
    "import numpy as np"
   ],
   "metadata": {
    "collapsed": false,
    "ExecuteTime": {
     "end_time": "2025-03-09T10:09:45.224887473Z",
     "start_time": "2025-03-09T10:09:44.757380522Z"
    }
   },
   "id": "8866369008447ddf",
   "execution_count": 1
  },
  {
   "cell_type": "code",
   "outputs": [],
   "source": [
    "# 最大連結成分を求める\n",
    "def max_component(g):\n",
    "    l = gt.label_largest_component(g)\n",
    "    u = gt.GraphView(g, vfilt=l)\n",
    "    sum_u = u.num_vertices()\n",
    "    return sum_u"
   ],
   "metadata": {
    "collapsed": false
   },
   "id": "9bace745a3bf4fc4"
  },
  {
   "cell_type": "code",
   "outputs": [],
   "source": [
    "Node = 1000\n",
    "\n",
    "m = 2\n",
    "\n",
    "times = 100\n",
    "\n",
    "M = 1\n",
    "\n",
    "name_list = [\"SF\", \"ER\"]\n",
    "\n",
    "count_list = [10, 20, 50, 100, 200, 500, 1000]\n",
    "\n",
    "recalculate_list = [100, 50, 20, 10, 5, 2, 1]"
   ],
   "metadata": {
    "collapsed": false
   },
   "id": "d68fef2b6efd205b"
  },
  {
   "cell_type": "code",
   "outputs": [],
   "source": [
    "for count, recalculate in zip(count_list, recalculate_list):\n",
    "    for net in name_list:\n",
    "        for i in tqdm(range(times)):\n",
    "            if \"SF\" in net:\n",
    "                g = load_graph(f\"~/o_t_hayashilab/complex_networks_2024/N={Node}/another_Network_data/SF/c={count}_re={recalculate}/{i}.gt.gz\")\n",
    "            else:\n",
    "                g = load_graph(f\"~/o_t_hayashilab/complex_networks_2024/N={Node}/another_Network_data/ER/c={count}_re={recalculate}/{i}.gt.gz\")\n",
    "                \n",
    "            if not g.num_edges(g) == 1997:\n",
    "                print(\"正しくリワイヤリングができていません。\")\n",
    "                \n",
    "            if not max_component(g) == Node:\n",
    "                print(\"最大連結成分が失われています。\")\n",
    "    \n",
    "            # グラフ g のすべてのノードとエッジを調査\n",
    "            for v in g.vertices():\n",
    "                # 自己ループの検出\n",
    "                if g.edge(v, v) is not None:\n",
    "                    print(f\"ノード {int(g.vp.node_id[v])} に自己ループが存在します。\")\n",
    "    \n",
    "                # 多重リンクの検出\n",
    "                for u in g.vertices():\n",
    "                    if u != v:\n",
    "                        edges = list(g.edge(v, u, all_edges=True))\n",
    "                        if len(edges) > 1:\n",
    "                            print(f\"ノード {int(g.vp.node_id[v])} と {int(g.vp.node_id[u])} の間に多重リンクが存在します。\")"
   ],
   "metadata": {
    "collapsed": false
   },
   "id": "dc8fa5830695c028"
  }
 ],
 "metadata": {
  "kernelspec": {
   "display_name": "Python 3",
   "language": "python",
   "name": "python3"
  },
  "language_info": {
   "codemirror_mode": {
    "name": "ipython",
    "version": 2
   },
   "file_extension": ".py",
   "mimetype": "text/x-python",
   "name": "python",
   "nbconvert_exporter": "python",
   "pygments_lexer": "ipython2",
   "version": "2.7.6"
  }
 },
 "nbformat": 4,
 "nbformat_minor": 5
}
