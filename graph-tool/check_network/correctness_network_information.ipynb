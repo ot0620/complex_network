{
 "cells": [
  {
   "cell_type": "code",
   "execution_count": 5,
   "id": "initial_id",
   "metadata": {
    "collapsed": true,
    "ExecuteTime": {
     "end_time": "2024-10-09T12:11:33.277496446Z",
     "start_time": "2024-10-09T12:11:33.233404709Z"
    }
   },
   "outputs": [],
   "source": [
    "from tqdm import tqdm\n",
    "from graph_tool.all import *\n",
    "import os\n",
    "import graph_tool.all as gt\n",
    "import scipy as sp\n",
    "import numpy as np"
   ]
  },
  {
   "cell_type": "code",
   "outputs": [],
   "source": [
    "# 最大連結成分を求める\n",
    "def max_component(g):\n",
    "    l = gt.label_largest_component(g)\n",
    "    u = gt.GraphView(g, vfilt=l)\n",
    "    sum_u = u.num_vertices()\n",
    "    return sum_u"
   ],
   "metadata": {
    "collapsed": false,
    "ExecuteTime": {
     "end_time": "2024-10-09T12:11:34.073313210Z",
     "start_time": "2024-10-09T12:11:34.058122777Z"
    }
   },
   "id": "4f5f125cdc7bd6f",
   "execution_count": 6
  },
  {
   "cell_type": "code",
   "outputs": [],
   "source": [
    "Node = 1000\n",
    "\n",
    "m = 2\n",
    "\n",
    "times = 100\n",
    "\n",
    "M = 1\n",
    "\n",
    "name_list = [\"SF\", \"ER\"]\n",
    "\n",
    "count_list = [10, 20, 50, 100, 200, 500, 1000]\n",
    "\n",
    "recalculate_list = [100, 50, 20, 10, 5, 2, 1]"
   ],
   "metadata": {
    "collapsed": false,
    "ExecuteTime": {
     "end_time": "2024-10-09T12:11:34.670294804Z",
     "start_time": "2024-10-09T12:11:34.668457461Z"
    }
   },
   "id": "690eb093b80e7a18",
   "execution_count": 7
  },
  {
   "cell_type": "code",
   "outputs": [
    {
     "name": "stderr",
     "output_type": "stream",
     "text": [
      "100%|██████████| 100/100 [04:48<00:00,  2.89s/it]\n",
      "100%|██████████| 100/100 [04:42<00:00,  2.82s/it]\n",
      "100%|██████████| 100/100 [04:57<00:00,  2.98s/it]\n",
      "100%|██████████| 100/100 [04:40<00:00,  2.81s/it]\n",
      "100%|██████████| 100/100 [04:35<00:00,  2.75s/it]\n",
      "100%|██████████| 100/100 [04:38<00:00,  2.78s/it]\n",
      "100%|██████████| 100/100 [04:35<00:00,  2.75s/it]\n",
      "100%|██████████| 100/100 [04:33<00:00,  2.74s/it]\n",
      "100%|██████████| 100/100 [04:32<00:00,  2.73s/it]\n",
      "100%|██████████| 100/100 [05:26<00:00,  3.26s/it]\n",
      "100%|██████████| 100/100 [05:54<00:00,  3.54s/it]\n",
      "100%|██████████| 100/100 [05:51<00:00,  3.51s/it]\n",
      "100%|██████████| 100/100 [05:52<00:00,  3.52s/it]\n",
      "100%|██████████| 100/100 [05:48<00:00,  3.48s/it]\n"
     ]
    }
   ],
   "source": [
    "for count, recalculate in zip(count_list, recalculate_list):\n",
    "    for net in name_list:\n",
    "        for i in tqdm(range(times)):\n",
    "            if \"SF\" in net:\n",
    "                g = load_graph(f\"~/o_t_hayashilab/complex_networks_2024/N={Node}/another_Network_data/SF/c={count}_re={recalculate}/{i}.gt.gz\")\n",
    "            else:\n",
    "                g = load_graph(f\"~/o_t_hayashilab/complex_networks_2024/N={Node}/another_Network_data/ER/c={count}_re={recalculate}/{i}.gt.gz\")\n",
    "                \n",
    "            if not g.num_edges(g) == 1997:\n",
    "                print(\"正しくリワイヤリングができていません。\")\n",
    "                \n",
    "            if not max_component(g) == Node:\n",
    "                print(\"最大連結成分が失われています。\")\n",
    "    \n",
    "            # グラフ g のすべてのノードとエッジを調査\n",
    "            for v in g.vertices():\n",
    "                # 自己ループの検出\n",
    "                if g.edge(v, v) is not None:\n",
    "                    print(f\"ノード {int(g.vp.node_id[v])} に自己ループが存在します。\")\n",
    "    \n",
    "                # 多重リンクの検出\n",
    "                for u in g.vertices():\n",
    "                    if u != v:\n",
    "                        edges = list(g.edge(v, u, all_edges=True))\n",
    "                        if len(edges) > 1:\n",
    "                            print(f\"ノード {int(g.vp.node_id[v])} と {int(g.vp.node_id[u])} の間に多重リンクが存在します。\")"
   ],
   "metadata": {
    "collapsed": false,
    "ExecuteTime": {
     "end_time": "2024-10-09T13:22:31.641875821Z",
     "start_time": "2024-10-09T12:11:35.589512566Z"
    }
   },
   "id": "23a684590f864d86",
   "execution_count": 8
  },
  {
   "cell_type": "code",
   "outputs": [],
   "source": [],
   "metadata": {
    "collapsed": false
   },
   "id": "f743dfbaa3be7723"
  }
 ],
 "metadata": {
  "kernelspec": {
   "display_name": "Python 3",
   "language": "python",
   "name": "python3"
  },
  "language_info": {
   "codemirror_mode": {
    "name": "ipython",
    "version": 2
   },
   "file_extension": ".py",
   "mimetype": "text/x-python",
   "name": "python",
   "nbconvert_exporter": "python",
   "pygments_lexer": "ipython2",
   "version": "2.7.6"
  }
 },
 "nbformat": 4,
 "nbformat_minor": 5
}
