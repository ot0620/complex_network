{
 "cells": [
  {
   "cell_type": "markdown",
   "source": [
    "ライブラリのインポート"
   ],
   "metadata": {
    "collapsed": false
   },
   "id": "33c51730acc1bb37"
  },
  {
   "cell_type": "code",
   "outputs": [],
   "source": [
    "from tqdm import tqdm\n",
    "from graph_tool.all import *\n",
    "import os\n",
    "import graph_tool.all as gt\n",
    "import scipy as sp\n",
    "import numpy as np"
   ],
   "metadata": {
    "collapsed": false,
    "ExecuteTime": {
     "end_time": "2025-03-09T10:16:51.820804374Z",
     "start_time": "2025-03-09T10:16:51.336395624Z"
    }
   },
   "id": "8866369008447ddf",
   "execution_count": 1
  },
  {
   "cell_type": "code",
   "outputs": [],
   "source": [
    "# 最大連結成分を求める\n",
    "def max_component(g):\n",
    "    l = gt.label_largest_component(g)\n",
    "    u = gt.GraphView(g, vfilt=l)\n",
    "    sum_u = u.num_vertices()\n",
    "    return sum_u"
   ],
   "metadata": {
    "collapsed": false,
    "ExecuteTime": {
     "end_time": "2025-03-09T10:16:52.413049943Z",
     "start_time": "2025-03-09T10:16:52.404014085Z"
    }
   },
   "id": "9bace745a3bf4fc4",
   "execution_count": 2
  },
  {
   "cell_type": "code",
   "outputs": [],
   "source": [
    "Node = 1000\n",
    "\n",
    "m = 2\n",
    "\n",
    "times = 100\n",
    "\n",
    "M = 1\n",
    "\n",
    "name_list = [\"SF\", \"ER\"]\n",
    "\n",
    "count_list = [10, 20, 50, 100, 200, 500, 1000]\n",
    "\n",
    "recalculate_list = [100, 50, 20, 10, 5, 2, 1]"
   ],
   "metadata": {
    "collapsed": false,
    "ExecuteTime": {
     "end_time": "2025-03-09T10:16:52.867375388Z",
     "start_time": "2025-03-09T10:16:52.859597032Z"
    }
   },
   "id": "d68fef2b6efd205b",
   "execution_count": 3
  },
  {
   "cell_type": "code",
   "outputs": [
    {
     "name": "stderr",
     "output_type": "stream",
     "text": [
      "  0%|          | 0/100 [00:00<?, ?it/s]\n",
      "/home/guest/anaconda3/envs/gt/lib/python3.12/site-packages/graph_tool/__init__.py:2004: SyntaxWarning: invalid escape sequence '\\m'\n",
      "  \"\"\"Return the edge from vertex ``s`` to ``t``, if it exists. If\n"
     ]
    },
    {
     "ename": "FileNotFoundError",
     "evalue": "[Errno 2] No such file or directory: '/home/guest/o_t_hayashilab/complex_networks_2024/N=1000/another_Network_data/SF/c=10_re=100/0.gt.gz'",
     "output_type": "error",
     "traceback": [
      "\u001B[0;31m---------------------------------------------------------------------------\u001B[0m",
      "\u001B[0;31mFileNotFoundError\u001B[0m                         Traceback (most recent call last)",
      "Cell \u001B[0;32mIn[4], line 5\u001B[0m\n\u001B[1;32m      3\u001B[0m \u001B[38;5;28;01mfor\u001B[39;00m i \u001B[38;5;129;01min\u001B[39;00m tqdm(\u001B[38;5;28mrange\u001B[39m(times)):\n\u001B[1;32m      4\u001B[0m     \u001B[38;5;28;01mif\u001B[39;00m \u001B[38;5;124m\"\u001B[39m\u001B[38;5;124mSF\u001B[39m\u001B[38;5;124m\"\u001B[39m \u001B[38;5;129;01min\u001B[39;00m net:\n\u001B[0;32m----> 5\u001B[0m         g \u001B[38;5;241m=\u001B[39m \u001B[43mload_graph\u001B[49m\u001B[43m(\u001B[49m\u001B[38;5;124;43mf\u001B[39;49m\u001B[38;5;124;43m\"\u001B[39;49m\u001B[38;5;124;43m~/o_t_hayashilab/complex_networks_2024/N=\u001B[39;49m\u001B[38;5;132;43;01m{\u001B[39;49;00m\u001B[43mNode\u001B[49m\u001B[38;5;132;43;01m}\u001B[39;49;00m\u001B[38;5;124;43m/another_Network_data/SF/c=\u001B[39;49m\u001B[38;5;132;43;01m{\u001B[39;49;00m\u001B[43mcount\u001B[49m\u001B[38;5;132;43;01m}\u001B[39;49;00m\u001B[38;5;124;43m_re=\u001B[39;49m\u001B[38;5;132;43;01m{\u001B[39;49;00m\u001B[43mrecalculate\u001B[49m\u001B[38;5;132;43;01m}\u001B[39;49;00m\u001B[38;5;124;43m/\u001B[39;49m\u001B[38;5;132;43;01m{\u001B[39;49;00m\u001B[43mi\u001B[49m\u001B[38;5;132;43;01m}\u001B[39;49;00m\u001B[38;5;124;43m.gt.gz\u001B[39;49m\u001B[38;5;124;43m\"\u001B[39;49m\u001B[43m)\u001B[49m\n\u001B[1;32m      6\u001B[0m     \u001B[38;5;28;01melse\u001B[39;00m:\n\u001B[1;32m      7\u001B[0m         g \u001B[38;5;241m=\u001B[39m load_graph(\u001B[38;5;124mf\u001B[39m\u001B[38;5;124m\"\u001B[39m\u001B[38;5;124m~/o_t_hayashilab/complex_networks_2024/N=\u001B[39m\u001B[38;5;132;01m{\u001B[39;00mNode\u001B[38;5;132;01m}\u001B[39;00m\u001B[38;5;124m/another_Network_data/ER/c=\u001B[39m\u001B[38;5;132;01m{\u001B[39;00mcount\u001B[38;5;132;01m}\u001B[39;00m\u001B[38;5;124m_re=\u001B[39m\u001B[38;5;132;01m{\u001B[39;00mrecalculate\u001B[38;5;132;01m}\u001B[39;00m\u001B[38;5;124m/\u001B[39m\u001B[38;5;132;01m{\u001B[39;00mi\u001B[38;5;132;01m}\u001B[39;00m\u001B[38;5;124m.gt.gz\u001B[39m\u001B[38;5;124m\"\u001B[39m)\n",
      "File \u001B[0;32m~/anaconda3/envs/gt/lib/python3.12/site-packages/graph_tool/__init__.py:3555\u001B[0m, in \u001B[0;36mload_graph\u001B[0;34m(file_name, fmt, ignore_vp, ignore_ep, ignore_gp)\u001B[0m\n\u001B[1;32m   3537\u001B[0m \u001B[38;5;250m\u001B[39m\u001B[38;5;124;03m\"\"\"Load a graph from ``file_name`` (which can be either a string or a file-like object).\u001B[39;00m\n\u001B[1;32m   3538\u001B[0m \n\u001B[1;32m   3539\u001B[0m \u001B[38;5;124;03mThe format is guessed from ``file_name``, or can be specified by ``fmt``,\u001B[39;00m\n\u001B[0;32m   (...)\u001B[0m\n\u001B[1;32m   3552\u001B[0m \n\u001B[1;32m   3553\u001B[0m \u001B[38;5;124;03m\"\"\"\u001B[39;00m\n\u001B[1;32m   3554\u001B[0m g \u001B[38;5;241m=\u001B[39m Graph()\n\u001B[0;32m-> 3555\u001B[0m \u001B[43mg\u001B[49m\u001B[38;5;241;43m.\u001B[39;49m\u001B[43mload\u001B[49m\u001B[43m(\u001B[49m\u001B[43mfile_name\u001B[49m\u001B[43m,\u001B[49m\u001B[43m \u001B[49m\u001B[43mfmt\u001B[49m\u001B[43m,\u001B[49m\u001B[43m \u001B[49m\u001B[43mignore_vp\u001B[49m\u001B[43m,\u001B[49m\u001B[43m \u001B[49m\u001B[43mignore_ep\u001B[49m\u001B[43m,\u001B[49m\u001B[43m \u001B[49m\u001B[43mignore_gp\u001B[49m\u001B[43m)\u001B[49m\n\u001B[1;32m   3556\u001B[0m \u001B[38;5;28;01mreturn\u001B[39;00m g\n",
      "File \u001B[0;32m~/anaconda3/envs/gt/lib/python3.12/site-packages/graph_tool/__init__.py:3054\u001B[0m, in \u001B[0;36mGraph.load\u001B[0;34m(self, file_name, fmt, ignore_vp, ignore_ep, ignore_gp)\u001B[0m\n\u001B[1;32m   3052\u001B[0m \u001B[38;5;28;01mif\u001B[39;00m \u001B[38;5;28misinstance\u001B[39m(file_name, \u001B[38;5;28mstr\u001B[39m):\n\u001B[1;32m   3053\u001B[0m     file_name \u001B[38;5;241m=\u001B[39m os\u001B[38;5;241m.\u001B[39mpath\u001B[38;5;241m.\u001B[39mexpanduser(file_name)\n\u001B[0;32m-> 3054\u001B[0m     \u001B[38;5;28;01mwith\u001B[39;00m \u001B[38;5;28;43mopen\u001B[39;49m\u001B[43m(\u001B[49m\u001B[43mfile_name\u001B[49m\u001B[43m)\u001B[49m \u001B[38;5;28;01mas\u001B[39;00m f: \u001B[38;5;66;03m# throw the appropriate exception\u001B[39;00m\n\u001B[1;32m   3055\u001B[0m         \u001B[38;5;28;01mpass\u001B[39;00m\n\u001B[1;32m   3056\u001B[0m \u001B[38;5;28;01mif\u001B[39;00m fmt \u001B[38;5;241m==\u001B[39m \u001B[38;5;124m'\u001B[39m\u001B[38;5;124mauto\u001B[39m\u001B[38;5;124m'\u001B[39m \u001B[38;5;129;01mand\u001B[39;00m \u001B[38;5;28misinstance\u001B[39m(file_name, \u001B[38;5;28mstr\u001B[39m):\n",
      "\u001B[0;31mFileNotFoundError\u001B[0m: [Errno 2] No such file or directory: '/home/guest/o_t_hayashilab/complex_networks_2024/N=1000/another_Network_data/SF/c=10_re=100/0.gt.gz'"
     ]
    }
   ],
   "source": [
    "for count, recalculate in zip(count_list, recalculate_list):\n",
    "    for net in name_list:\n",
    "        for i in tqdm(range(times)):\n",
    "            if \"SF\" in net:\n",
    "                g = load_graph(f\"~/o_t_hayashilab/complex_networks_2024/N={Node}/another_Network_data/SF/c={count}_re={recalculate}/{i}.gt.gz\")\n",
    "            else:\n",
    "                g = load_graph(f\"~/o_t_hayashilab/complex_networks_2024/N={Node}/another_Network_data/ER/c={count}_re={recalculate}/{i}.gt.gz\")\n",
    "                \n",
    "            if not g.num_edges(g) == 1997:\n",
    "                print(\"正しくリワイヤリングができていません。\")\n",
    "                \n",
    "            if not max_component(g) == Node:\n",
    "                print(\"最大連結成分が失われています。\")\n",
    "    \n",
    "            # グラフ g のすべてのノードとエッジを調査\n",
    "            for v in g.vertices():\n",
    "                # 自己ループの検出\n",
    "                if g.edge(v, v) is not None:\n",
    "                    print(f\"ノード {int(g.vp.node_id[v])} に自己ループが存在します。\")\n",
    "    \n",
    "                # 多重リンクの検出\n",
    "                for u in g.vertices():\n",
    "                    if u != v:\n",
    "                        edges = list(g.edge(v, u, all_edges=True))\n",
    "                        if len(edges) > 1:\n",
    "                            print(f\"ノード {int(g.vp.node_id[v])} と {int(g.vp.node_id[u])} の間に多重リンクが存在します。\")"
   ],
   "metadata": {
    "collapsed": false,
    "ExecuteTime": {
     "end_time": "2025-03-09T10:16:53.370334810Z",
     "start_time": "2025-03-09T10:16:53.221151545Z"
    }
   },
   "id": "dc8fa5830695c028",
   "execution_count": 4
  },
  {
   "cell_type": "code",
   "outputs": [],
   "source": [],
   "metadata": {
    "collapsed": false,
    "ExecuteTime": {
     "end_time": "2025-03-09T10:16:53.932390172Z",
     "start_time": "2025-03-09T10:16:53.923251174Z"
    }
   },
   "id": "5bcd337e33e28fb4",
   "execution_count": 4
  }
 ],
 "metadata": {
  "kernelspec": {
   "display_name": "Python 3",
   "language": "python",
   "name": "python3"
  },
  "language_info": {
   "codemirror_mode": {
    "name": "ipython",
    "version": 2
   },
   "file_extension": ".py",
   "mimetype": "text/x-python",
   "name": "python",
   "nbconvert_exporter": "python",
   "pygments_lexer": "ipython2",
   "version": "2.7.6"
  }
 },
 "nbformat": 4,
 "nbformat_minor": 5
}
