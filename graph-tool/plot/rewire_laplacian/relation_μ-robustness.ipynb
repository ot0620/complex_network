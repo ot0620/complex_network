{
 "cells": [
  {
   "cell_type": "code",
   "execution_count": 1,
   "id": "initial_id",
   "metadata": {
    "collapsed": true,
    "ExecuteTime": {
     "end_time": "2024-09-25T12:22:09.549638758Z",
     "start_time": "2024-09-25T12:22:08.838144691Z"
    }
   },
   "outputs": [],
   "source": [
    "from graph_tool.all import *\n",
    "import graph_tool.all as gt\n",
    "import numpy as np\n",
    "import scipy as sp\n",
    "import random\n",
    "import os\n",
    "from tqdm import tqdm\n",
    "import matplotlib.pyplot as plt\n",
    "import matplotlib.image as mpimg\n",
    "import pandas as pd\n",
    "from PyGnuplot import gp\n",
    "import subprocess\n",
    "from scipy.integrate import simpson"
   ]
  },
  {
   "cell_type": "code",
   "outputs": [],
   "source": [
    "Node = 1000\n",
    "\n",
    "m = 2\n",
    "\n",
    "times = 100\n",
    "\n",
    "beta_list = [1,-1]\n",
    "\n",
    "net_list = [\"SF\", \"IPA_beta1\"]\n",
    "\n",
    "name_list = [\"SF\", \"ER\"]"
   ],
   "metadata": {
    "collapsed": false,
    "ExecuteTime": {
     "end_time": "2024-09-25T12:22:09.591330416Z",
     "start_time": "2024-09-25T12:22:09.590422668Z"
    }
   },
   "id": "9a630a6974e00b37",
   "execution_count": 2
  },
  {
   "cell_type": "code",
   "outputs": [],
   "source": [
    "# 第二固有値と固有ベクトルを算出する関数\n",
    "def no_normalized_laplacian(g):\n",
    "    # ラプラシアン行列の計算\n",
    "    # `normalized` 引数を削除\n",
    "    L = gt.laplacian(g)\n",
    "    \n",
    "    # scipyのスパース行列としてラプラシアン行列を取得\n",
    "    L_sparse = sp.sparse.csr_matrix(L)\n",
    "    \n",
    "    # 固有値と固有ベクトルの計算 (第二小さい固有値とその固有ベクトルを求める)\n",
    "    eigenvalues, eigenvectors = sp.sparse.linalg.eigsh(L_sparse, k=2, which='SM')\n",
    "    \n",
    "    second_values = eigenvalues[1]\n",
    "    \n",
    "    # フィードラーベクトル (第二小さい固有値に対応する固有ベクトル) の抽出\n",
    "    fiedler_vector = eigenvectors[:, 1]\n",
    "    \n",
    "    return second_values, fiedler_vector"
   ],
   "metadata": {
    "collapsed": false,
    "ExecuteTime": {
     "end_time": "2024-09-25T12:22:09.592098156Z",
     "start_time": "2024-09-25T12:22:09.590653560Z"
    }
   },
   "id": "abaeb231ceded205",
   "execution_count": 3
  },
  {
   "cell_type": "code",
   "outputs": [
    {
     "name": "stderr",
     "output_type": "stream",
     "text": [
      "100%|██████████| 100/100 [00:43<00:00,  2.29it/s]\n",
      "100%|██████████| 100/100 [01:05<00:00,  1.52it/s]\n",
      "100%|██████████| 100/100 [00:40<00:00,  2.49it/s]\n",
      "100%|██████████| 100/100 [00:30<00:00,  3.30it/s]\n",
      "100%|██████████| 100/100 [00:22<00:00,  4.46it/s]\n",
      "100%|██████████| 100/100 [00:20<00:00,  4.87it/s]\n",
      "100%|██████████| 100/100 [00:21<00:00,  4.60it/s]\n",
      "100%|██████████| 100/100 [00:19<00:00,  5.15it/s]\n",
      "100%|██████████| 100/100 [00:13<00:00,  7.25it/s]\n",
      "100%|██████████| 100/100 [00:10<00:00,  9.55it/s]\n",
      "100%|██████████| 100/100 [00:20<00:00,  4.87it/s]\n",
      "100%|██████████| 100/100 [00:16<00:00,  5.93it/s]\n",
      "100%|██████████| 100/100 [00:19<00:00,  5.11it/s]\n",
      "100%|██████████| 100/100 [00:20<00:00,  4.79it/s]\n",
      "100%|██████████| 100/100 [00:21<00:00,  4.71it/s]\n",
      "100%|██████████| 100/100 [00:21<00:00,  4.55it/s]\n",
      "100%|██████████| 100/100 [00:17<00:00,  5.70it/s]\n",
      "100%|██████████| 100/100 [00:10<00:00,  9.26it/s]\n",
      "100%|██████████| 100/100 [00:08<00:00, 11.89it/s]\n",
      "100%|██████████| 100/100 [00:07<00:00, 14.16it/s]\n"
     ]
    }
   ],
   "source": [
    "count_list = [0,1,2,5,10,20,50,100,200,500,1000]\n",
    "recalculate_list = [0,1000,500,200,100,50,20,10,5,2,1]\n",
    "\n",
    "all_SF_μ = []\n",
    "\n",
    "for count, recalculate in zip(count_list, recalculate_list):\n",
    "    part_μ = []\n",
    "    if count == recalculate == 0:\n",
    "        for i in range(times):\n",
    "            g = load_graph(f\"~/o_t_hayashilab/complex_networks_2024/Network_data/N={Node}/SF/initial/{i}.gt.gz\")\n",
    "            \n",
    "            μ, fiedler_vector = no_normalized_laplacian(g)\n",
    "            \n",
    "            part_μ.append(μ)\n",
    "    \n",
    "        ave_μ = np.mean(part_μ)\n",
    "    \n",
    "        all_SF_μ.append(ave_μ)\n",
    "        \n",
    "    else: \n",
    "        for i in tqdm(range(times)):\n",
    "            g = load_graph(f\"~/o_t_hayashilab/complex_networks_2024/Network_data/N={Node}/SF/c={count}_re={recalculate}/{i}.gt.gz\")\n",
    "            \n",
    "            μ, fiedler_vector = no_normalized_laplacian(g)\n",
    "            \n",
    "            part_μ.append(μ)\n",
    "        \n",
    "        ave_μ = np.mean(part_μ)\n",
    "        \n",
    "        all_SF_μ.append(ave_μ)\n",
    "        \n",
    "all_ER_μ = []\n",
    "\n",
    "for count, recalculate in zip(count_list, recalculate_list):\n",
    "    part_μ = []\n",
    "    if count == recalculate == 0:\n",
    "        for i in range(times):\n",
    "            g = load_graph(f\"~/o_t_hayashilab/complex_networks_2024/Network_data/N={Node}/ER/initial/{i}.gt.gz\")\n",
    "            \n",
    "            μ, fiedler_vector = no_normalized_laplacian(g)\n",
    "            \n",
    "            part_μ.append(μ)\n",
    "    \n",
    "        ave_μ = np.mean(part_μ)\n",
    "    \n",
    "        all_ER_μ.append(ave_μ)\n",
    "        \n",
    "    else: \n",
    "        for i in tqdm(range(times)):\n",
    "            g = load_graph(f\"~/o_t_hayashilab/complex_networks_2024/Network_data/N={Node}/ER/c={count}_re={recalculate}/{i}.gt.gz\")\n",
    "            \n",
    "            μ, fiedler_vector = no_normalized_laplacian(g)\n",
    "            \n",
    "            part_μ.append(μ)\n",
    "        \n",
    "        ave_μ = np.mean(part_μ)\n",
    "        \n",
    "        all_ER_μ.append(ave_μ)"
   ],
   "metadata": {
    "collapsed": false,
    "ExecuteTime": {
     "end_time": "2024-09-25T12:30:08.555781553Z",
     "start_time": "2024-09-25T12:22:09.590755558Z"
    }
   },
   "id": "264ef35781605c52",
   "execution_count": 4
  },
  {
   "cell_type": "code",
   "outputs": [],
   "source": [
    "#チェーン構造を解消するためのリワイヤリングコード\n",
    "def rewire_network(g, rewiring_times):\n",
    "    #print(\"random_rewire開始\")\n",
    "    gt.random_rewire(g, model = \"configuration\", n_iter = rewiring_times, edge_sweep=True)\n",
    "    #print(\"random_rewire終了\")\n",
    "    return g\n",
    "\n",
    "# Define function to check sum_u\n",
    "def check_sum_u(g, target_sum):\n",
    "    l = gt.label_largest_component(g)\n",
    "    u = gt.GraphView(g, vfilt=l)\n",
    "    sum_u = u.num_vertices()\n",
    "    return sum_u == target_sum"
   ],
   "metadata": {
    "collapsed": false,
    "ExecuteTime": {
     "end_time": "2024-09-25T12:30:08.559738112Z",
     "start_time": "2024-09-25T12:30:08.554039068Z"
    }
   },
   "id": "3eeb54e1671f61eb",
   "execution_count": 5
  },
  {
   "cell_type": "code",
   "outputs": [
    {
     "name": "stderr",
     "output_type": "stream",
     "text": [
      "100%|██████████| 100/100 [00:59<00:00,  1.69it/s]\n",
      "100%|██████████| 100/100 [00:47<00:00,  2.09it/s]\n",
      "100%|██████████| 100/100 [01:08<00:00,  1.46it/s]\n",
      "100%|██████████| 100/100 [00:46<00:00,  2.17it/s]\n",
      "100%|██████████| 100/100 [01:26<00:00,  1.16it/s]\n",
      "100%|██████████| 100/100 [00:46<00:00,  2.17it/s]\n",
      "100%|██████████| 100/100 [03:05<00:00,  1.85s/it]\n",
      "100%|██████████| 100/100 [00:46<00:00,  2.13it/s]\n",
      "100%|██████████| 100/100 [09:42<00:00,  5.83s/it]\n",
      "100%|██████████| 100/100 [00:47<00:00,  2.09it/s]\n",
      "100%|██████████| 100/100 [22:24<00:00, 13.45s/it] \n",
      "100%|██████████| 100/100 [01:00<00:00,  1.65it/s]\n",
      "100%|██████████| 100/100 [22:18<00:00, 13.39s/it] \n",
      "100%|██████████| 100/100 [01:21<00:00,  1.23it/s]\n",
      "100%|██████████| 100/100 [24:31<00:00, 14.71s/it]\n",
      "100%|██████████| 100/100 [01:40<00:00,  1.00s/it]\n",
      "100%|██████████| 100/100 [32:58<00:00, 19.79s/it]  \n",
      "100%|██████████| 100/100 [03:12<00:00,  1.93s/it]\n",
      "100%|██████████| 100/100 [02:55<00:00,  1.75s/it]\n",
      "100%|██████████| 100/100 [00:50<00:00,  1.97it/s]\n"
     ]
    }
   ],
   "source": [
    "SF_config = []\n",
    "ER_config = []\n",
    "count_list = [1,2,5,10,20,50,100,200,500,1000]\n",
    "recalculate_list = [1000,500,200,100,50,20,10,5,2,1]\n",
    "\n",
    "for count, recalculate in zip(count_list, recalculate_list):\n",
    "    for net in name_list:\n",
    "        config = []\n",
    "        for i in tqdm(range(times)):\n",
    "            if \"SF\" in net:\n",
    "                while True:\n",
    "                    g = load_graph(f\"~/o_t_hayashilab/complex_networks_2024/Network_data/N={Node}/{net}/c={count}_re={recalculate}/{i}.gt.gz\")\n",
    "                    # 初期グラフを保存する前にコピーする\n",
    "                    G = g.copy()\n",
    "                    G = rewire_network(G, Node)\n",
    "                    if check_sum_u(G, Node):\n",
    "                        break\n",
    "                config.append(G)\n",
    "            \n",
    "            else:\n",
    "                while True:\n",
    "                    g = load_graph(f\"~/o_t_hayashilab/complex_networks_2024/Network_data/N={Node}/{net}/c={count}_re={recalculate}/{i}.gt.gz\")\n",
    "                    # 初期グラフを保存する前にコピーする\n",
    "                    G = g.copy()\n",
    "                    G = rewire_network(G, Node)\n",
    "                    if check_sum_u(G, Node):\n",
    "                        break\n",
    "                config.append(G)\n",
    "                \n",
    "        if \"SF\" in net:\n",
    "            SF_config.append(config)\n",
    "        else:\n",
    "            ER_config.append(config)"
   ],
   "metadata": {
    "collapsed": false,
    "ExecuteTime": {
     "end_time": "2024-09-25T14:43:39.181208103Z",
     "start_time": "2024-09-25T12:30:08.558216668Z"
    }
   },
   "id": "e410cb63af402a72",
   "execution_count": 6
  },
  {
   "cell_type": "code",
   "outputs": [],
   "source": [
    "count_list = [5, 20, 50, 100, 200, 500, 1000, 2500, 5000]\n",
    "recalculate_list = [1000, 250, 100, 50, 25, 10, 5, 2, 1]\n",
    "\n",
    "for count, recalculate in zip(count_list, recalculate_list):\n",
    "    for net in name_list:\n",
    "        for i in tqdm(range(times)):\n",
    "            attempt = 0\n",
    "            while attempt < 500:\n",
    "                g = load_graph(f\"~/o_t_hayashilab/Network_data/graph-tool/rewire_laplacian/N={Node}/{net}/c={count}_re={recalculate}/{i}.gt.gz\")\n",
    "                G = g.copy()\n",
    "                G = rewire_network(G, Node)\n",
    "                \n",
    "                if check_sum_u(G, Node):\n",
    "                    directory = (f\"~/o_t_hayashilab/Network_data/graph-tool/rewire_laplacian/N={Node}/config/{net}/c={count}_re={recalculate}/\")\n",
    "                    os.makedirs(os.path.expanduser(directory), exist_ok=True)\n",
    "                    filename = directory + f\"{i}.gt.gz\"\n",
    "                    G.save(filename)\n",
    "                    break\n",
    "                \n",
    "                attempt += 1"
   ],
   "metadata": {
    "collapsed": false
   },
   "id": "6c9208d38a3e9692"
  },
  {
   "cell_type": "code",
   "outputs": [],
   "source": [
    "all_SF_config_μ = []\n",
    "part_μ = []\n",
    "for i in range(len(SF_config)):\n",
    "    for j in range(times):\n",
    "        \n",
    "        g = SF_config[i][j]\n",
    "        μ, fiedler_vector = no_normalized_laplacian(g)\n",
    "    \n",
    "        part_μ.append(μ)\n",
    "\n",
    "    ave_μ = np.mean(part_μ)\n",
    "\n",
    "    all_SF_config_μ.append(ave_μ)\n",
    "        \n",
    "all_ER_config_μ = []\n",
    "for i in range(len(ER_config)):\n",
    "    part_μ = []\n",
    "    for j in range(times):\n",
    "        \n",
    "        g = ER_config[i][j]\n",
    "        μ, fiedler_vector = no_normalized_laplacian(g)\n",
    "    \n",
    "        part_μ.append(μ)\n",
    "\n",
    "    ave_μ = np.mean(part_μ)\n",
    "\n",
    "    all_ER_config_μ.append(ave_μ)"
   ],
   "metadata": {
    "collapsed": false,
    "ExecuteTime": {
     "end_time": "2024-09-25T14:47:38.940839845Z",
     "start_time": "2024-09-25T14:43:39.191279720Z"
    }
   },
   "id": "2cef26fc438cfae4",
   "execution_count": 7
  },
  {
   "cell_type": "code",
   "outputs": [
    {
     "data": {
      "text/plain": "[0.20220013901014172,\n 0.49382091033743,\n 0.5713367571185703,\n 0.4800560233408595,\n 0.411755928701528,\n 0.35580611775476456,\n 0.3028815247248909,\n 0.2938488617374591,\n 0.25622851920908285,\n 0.24898680178521157,\n 0.36180617221454064]"
     },
     "execution_count": 8,
     "metadata": {},
     "output_type": "execute_result"
    }
   ],
   "source": [
    "all_SF_μ"
   ],
   "metadata": {
    "collapsed": false,
    "ExecuteTime": {
     "end_time": "2024-09-25T14:47:38.944652826Z",
     "start_time": "2024-09-25T14:47:38.940490505Z"
    }
   },
   "id": "c0524dbf6c71c34f",
   "execution_count": 8
  },
  {
   "cell_type": "code",
   "outputs": [
    {
     "data": {
      "text/plain": "[0.3135116583338272,\n 0.527746979056443,\n 0.5808093014101583,\n 0.4711043769879607,\n 0.4083507856891591,\n 0.3669682999881397,\n 0.32326472026503145,\n 0.29748350226593356,\n 0.26641394321863077,\n 0.26017016574965646,\n 0.40546926567834823]"
     },
     "execution_count": 9,
     "metadata": {},
     "output_type": "execute_result"
    }
   ],
   "source": [
    "all_ER_μ"
   ],
   "metadata": {
    "collapsed": false,
    "ExecuteTime": {
     "end_time": "2024-09-25T14:47:38.950006160Z",
     "start_time": "2024-09-25T14:47:38.941044835Z"
    }
   },
   "id": "2033f4d1558a9407",
   "execution_count": 9
  },
  {
   "cell_type": "code",
   "outputs": [
    {
     "name": "stderr",
     "output_type": "stream",
     "text": [
      "The PostScript backend does not support transparency; partially transparent artists will be rendered opaque.\n"
     ]
    },
    {
     "data": {
      "text/plain": "<Figure size 1000x600 with 1 Axes>",
      "image/png": "[encoded data removed]"
     },
     "metadata": {},
     "output_type": "display_data"
    },
    {
     "name": "stdout",
     "output_type": "stream",
     "text": [
      "R_SF: [0.20220013901014172, 0.49382091033743, 0.5713367571185703, 0.4800560233408595, 0.411755928701528, 0.35580611775476456, 0.3028815247248909, 0.2938488617374591, 0.25622851920908285, 0.24898680178521157, 0.36180617221454064]\n",
      "R_SF_config: [0.15955328887028938, 0.16446412176934225, 0.16504917897163734, 0.15788209808397274, 0.14994078374273695, 0.14384700329449643, 0.14045004524674917, 0.13757363895065777, 0.1372062136224114, 0.14775950666374063]\n",
      "R_ER: [0.3135116583338272, 0.527746979056443, 0.5808093014101583, 0.4711043769879607, 0.4083507856891591, 0.3669682999881397, 0.32326472026503145, 0.29748350226593356, 0.26641394321863077, 0.26017016574965646, 0.40546926567834823]\n",
      "R_ER_config: [0.3104245519133397, 0.4599070623115022, 0.37475260560547924, 0.284158585094543, 0.2230375402207929, 0.1868767938861543, 0.16909431716630763, 0.16819301100917108, 0.1631019695771807, 0.24619877496992726]\n"
     ]
    }
   ],
   "source": [
    "import matplotlib.pyplot as plt\n",
    "import numpy as np\n",
    "\n",
    "# x軸のラベル (initial を削除)\n",
    "x_labels = ['1 × 1000', '2 × 500', '5 × 200', '10 × 100', '20 × 50', '50 × 20', '100 × 10', '200 × 5', '500 × 2', '1000 × 1']\n",
    "\n",
    "# 各グラフのx値を設定\n",
    "x_indices = list(range(len(x_labels)))\n",
    "\n",
    "# Create the plot\n",
    "plt.figure(figsize=(10, 6))\n",
    "\n",
    "# Plot the rest of the values for 5, 10, 50, 100, 200, 500\n",
    "x_sf_l = np.array(x_indices) - 0.3  # 左にずらす\n",
    "y_sf_l = all_SF_μ[1:]\n",
    "x_sf_config = np.array(x_indices) - 0.15  # 少し左にずらす\n",
    "y_sf_config = all_SF_config_μ\n",
    "x_er_l = np.array(x_indices) + 0.15  # 少し右にずらす\n",
    "y_er_l = all_ER_μ[1:]\n",
    "x_er_config = np.array(x_indices) + 0.3  # 右にずらす\n",
    "y_er_config = all_ER_config_μ\n",
    "\n",
    "# Plot the bars\n",
    "bar_sf_l = plt.bar(x_sf_l, y_sf_l, width=0.15, color='pink', label='SF:rewire')\n",
    "bar_sf_config = plt.bar(x_sf_config, y_sf_config, width=0.15, color='purple', label='SF:config')\n",
    "bar_er_l = plt.bar(x_er_l, y_er_l, width=0.15, color='cyan', label='ER:rewire')\n",
    "bar_er_config = plt.bar(x_er_config, y_er_config, width=0.15, color='green', label='ER:config')\n",
    "\n",
    "# Adding horizontal lines for initial values (dashed)\n",
    "plt.axhline(y=all_SF_μ[0], color='red', linestyle='--', linewidth=1, label='SF:initial')\n",
    "plt.axhline(y=all_ER_μ[0], color='blue', linestyle='--', linewidth=1, label='ER:initial')\n",
    "\n",
    "# Labeling the x-axis\n",
    "plt.xticks(ticks=x_indices, labels=x_labels)\n",
    "\n",
    "# Adding titles and labels\n",
    "plt.xlabel(r'$l \\times c$', fontsize=20)\n",
    "plt.ylabel(r\"$μ_{2}$\", fontsize=20)\n",
    "\n",
    "# Placing the legend outside the plot on the top center\n",
    "handles, labels = plt.gca().get_legend_handles_labels()\n",
    "order = [0, 1, 2, 4, 3, 5]\n",
    "plt.legend([handles[idx] for idx in order], \n",
    "           ['SF:initial', 'ER:initial', 'SF:rewire', 'ER:rewire', 'SF:config', 'ER:config'], \n",
    "           loc='upper center', bbox_to_anchor=(0.5, 1.16), ncol=3, fontsize=14)\n",
    "\n",
    "# 保存先のディレクトリを指定\n",
    "save_dir = os.path.expanduser('~/o_t_hayashilab/complex_networks_2024/figure/')\n",
    "os.makedirs(save_dir, exist_ok=True)  # ディレクトリが存在しない場合は作成\n",
    "# EPS形式で図を保存（フルパスを指定）\n",
    "save_path = os.path.join(save_dir, f\"eigenvalue.eps\")\n",
    "plt.savefig(save_path, format='eps', bbox_inches='tight')\n",
    "\n",
    "# Show plot\n",
    "plt.show()\n",
    "\n",
    "# Print results\n",
    "print(\"R_SF:\", all_SF_μ)\n",
    "print(\"R_SF_config:\", all_SF_config_μ)\n",
    "print(\"R_ER:\", all_ER_μ)\n",
    "print(\"R_ER_config:\", all_ER_config_μ)"
   ],
   "metadata": {
    "collapsed": false,
    "ExecuteTime": {
     "end_time": "2024-09-26T05:06:08.357577Z",
     "start_time": "2024-09-26T05:06:08.073853670Z"
    }
   },
   "id": "cad796734272acfe",
   "execution_count": 21
  },
  {
   "cell_type": "code",
   "outputs": [],
   "source": [
    "R_SF = []\n",
    "R_ER = []\n",
    "count_list = [0,1,2,5,10,20,50,100,200,500,1000]\n",
    "recalculate_list = [0,1000,500,200,100,50,20,10,5,2,1]\n",
    "\n",
    "for net in name_list:\n",
    "    for count, recalculate in zip(count_list, recalculate_list):\n",
    "        IB = []\n",
    "        if count == recalculate == 0:\n",
    "            for i in range(times):\n",
    "                g = load_graph(f\"~/o_t_hayashilab/complex_networks_2024/Network_data/N={Node}/{net}/initial/{i}.gt.gz\")\n",
    "                \n",
    "                G = g.copy()\n",
    "                \n",
    "                vertex_IB_list, edge_IB_list = gt.betweenness(G)\n",
    "                vertex_list = [v for v in G.vertices()]\n",
    "                randomized_vertex_list = list(range(0, len(vertex_list)))\n",
    "                random.shuffle(randomized_vertex_list)\n",
    "                combined_vertex_list = list(zip(vertex_list, vertex_IB_list, randomized_vertex_list))\n",
    "                sorted_combined_vertex_list = sorted(combined_vertex_list, key=lambda v: (v[1], v[2]))\n",
    "                IB_rewiring_g = [v for (v, s, t) in sorted_combined_vertex_list]\n",
    "        \n",
    "                sizes, comp = gt.vertex_percolation(G, IB_rewiring_g)\n",
    "                betweenness_attack = [frc for frc in sizes]\n",
    "                perc = np.array(betweenness_attack)\n",
    "                perc = perc / Node\n",
    "                IB.append(perc)\n",
    "        \n",
    "            IB_avg = np.mean(IB, axis=0)\n",
    "            R = simpson(IB_avg, dx=1/Node)\n",
    "            if \"SF\" in net:\n",
    "                R_SF.append(R)\n",
    "            else:\n",
    "                R_ER.append(R)\n",
    "        else:\n",
    "            for i in range(times):\n",
    "                g = load_graph(f\"~/o_t_hayashilab/complex_networks_2024/Network_data/N={Node}/{net}/c={count}_re={recalculate}/{i}.gt.gz\")\n",
    "                \n",
    "                G = g.copy()\n",
    "                \n",
    "                vertex_IB_list, edge_IB_list = gt.betweenness(G)\n",
    "                vertex_list = [v for v in G.vertices()]\n",
    "                randomized_vertex_list = list(range(0, len(vertex_list)))\n",
    "                random.shuffle(randomized_vertex_list)\n",
    "                combined_vertex_list = list(zip(vertex_list, vertex_IB_list, randomized_vertex_list))\n",
    "                sorted_combined_vertex_list = sorted(combined_vertex_list, key=lambda v: (v[1], v[2]))\n",
    "                IB_rewiring_g = [v for (v, s, t) in sorted_combined_vertex_list]\n",
    "        \n",
    "                sizes, comp = gt.vertex_percolation(G, IB_rewiring_g)\n",
    "                betweenness_attack = [frc for frc in sizes]\n",
    "                perc = np.array(betweenness_attack)\n",
    "                perc = perc / Node\n",
    "                IB.append(perc)\n",
    "        \n",
    "            IB_avg = np.mean(IB, axis=0)\n",
    "            R = simpson(IB_avg, dx=1/Node)\n",
    "            if \"SF\" in net:\n",
    "                R_SF.append(R)\n",
    "            else:\n",
    "                R_ER.append(R)"
   ],
   "metadata": {
    "collapsed": false,
    "ExecuteTime": {
     "end_time": "2024-09-25T14:48:10.893152227Z",
     "start_time": "2024-09-25T14:47:39.161165500Z"
    }
   },
   "id": "6582ed106f0ce785",
   "execution_count": 11
  },
  {
   "cell_type": "code",
   "outputs": [],
   "source": [
    "R_SF_config = []\n",
    "R_ER_config = []\n",
    "\n",
    "for net in name_list:\n",
    "    \n",
    "    for i in range(len(SF_config)):\n",
    "        IB = []\n",
    "        for j in range(times):\n",
    "            if \"SF\" in net:\n",
    "                g = SF_config[i][j]\n",
    "                \n",
    "            else:\n",
    "                g = ER_config[i][j]\n",
    "                \n",
    "            G = g.copy()\n",
    "            \n",
    "            vertex_IB_list, edge_IB_list = gt.betweenness(G)\n",
    "            vertex_list = [v for v in G.vertices()]\n",
    "            randomized_vertex_list = list(range(0, len(vertex_list)))\n",
    "            random.shuffle(randomized_vertex_list)\n",
    "            combined_vertex_list = list(zip(vertex_list, vertex_IB_list, randomized_vertex_list))\n",
    "            sorted_combined_vertex_list = sorted(combined_vertex_list, key=lambda v: (v[1], v[2]))\n",
    "            IB_rewiring_g = [v for (v, s, t) in sorted_combined_vertex_list]\n",
    "    \n",
    "            sizes, comp = gt.vertex_percolation(G, IB_rewiring_g)\n",
    "            betweenness_attack = [frc for frc in sizes]\n",
    "            perc = np.array(betweenness_attack)\n",
    "            perc = perc / Node\n",
    "            IB.append(perc)\n",
    "    \n",
    "        IB_avg = np.mean(IB, axis=0)\n",
    "        R = simpson(IB_avg, dx=1/Node)\n",
    "        \n",
    "        if \"SF\" in net:\n",
    "            R_SF_config.append(R)\n",
    "        else:\n",
    "            R_ER_config.append(R)"
   ],
   "metadata": {
    "collapsed": false,
    "ExecuteTime": {
     "end_time": "2024-09-25T14:48:41.868652318Z",
     "start_time": "2024-09-25T14:48:10.892732479Z"
    }
   },
   "id": "fbc724bd9843d9ed",
   "execution_count": 12
  },
  {
   "cell_type": "code",
   "outputs": [
    {
     "name": "stderr",
     "output_type": "stream",
     "text": [
      "The PostScript backend does not support transparency; partially transparent artists will be rendered opaque.\n"
     ]
    },
    {
     "data": {
      "text/plain": "<Figure size 1000x600 with 1 Axes>",
      "image/png": "[encoded data removed]"
     },
     "metadata": {},
     "output_type": "display_data"
    }
   ],
   "source": [
    "import matplotlib.pyplot as plt\n",
    "import numpy as np\n",
    "\n",
    "# x軸のラベル (initial を削除)\n",
    "x_labels = ['1 × 1000', '2 × 500', '5 × 200', '10 × 100', '20 × 50', '50 × 20', '100 × 10', '200 × 5', '500 × 2', '1000 × 1']\n",
    "\n",
    "# 各グラフのx値を設定\n",
    "x_indices = list(range(len(x_labels)))\n",
    "\n",
    "# Create the plot\n",
    "plt.figure(figsize=(10, 6))\n",
    "\n",
    "# Plot the rest of the values for 5, 10, 50, 100, 200, 500\n",
    "x_sf_l = np.array(x_indices) - 0.3  # 左にずらす\n",
    "y_sf_l = R_SF[1:]\n",
    "x_sf_config = np.array(x_indices) - 0.15  # 少し左にずらす\n",
    "y_sf_config = R_SF_config\n",
    "x_er_l = np.array(x_indices) + 0.15  # 少し右にずらす\n",
    "y_er_l = R_ER[1:]\n",
    "x_er_config = np.array(x_indices) + 0.3  # 右にずらす\n",
    "y_er_config = R_ER_config\n",
    "\n",
    "# Plot the bars\n",
    "bar_sf_l = plt.bar(x_sf_l, y_sf_l, width=0.15, color='pink', label='SF:rewire')\n",
    "bar_sf_config = plt.bar(x_sf_config, y_sf_config, width=0.15, color='purple', label='SF:config')\n",
    "bar_er_l = plt.bar(x_er_l, y_er_l, width=0.15, color='cyan', label='ER:rewire')\n",
    "bar_er_config = plt.bar(x_er_config, y_er_config, width=0.15, color='green', label='ER:config')\n",
    "\n",
    "# Adding horizontal lines for initial values (dashed)\n",
    "plt.axhline(y=R_SF[0], color='red', linestyle='--', linewidth=1, label='SF:initial')\n",
    "plt.axhline(y=R_ER[0], color='blue', linestyle='--', linewidth=1, label='ER:initial')\n",
    "\n",
    "# Labeling the x-axis\n",
    "plt.xticks(ticks=x_indices, labels=x_labels)\n",
    "\n",
    "# Adding titles and labels\n",
    "plt.xlabel(r'$l \\times c$', fontsize=20)\n",
    "plt.ylabel(r\"$R$\", fontsize=20)\n",
    "\n",
    "# Placing the legend outside the plot on the top center\n",
    "handles, labels = plt.gca().get_legend_handles_labels()\n",
    "order = [0, 1, 2, 4, 3, 5]\n",
    "plt.legend([handles[idx] for idx in order], \n",
    "           ['SF:initial', 'ER:initial', 'SF:rewire', 'ER:rewire', 'SF:config', 'ER:config'], \n",
    "           loc='upper center', bbox_to_anchor=(0.5, 1.16), ncol=3, fontsize=14)\n",
    "\n",
    "# 保存先のディレクトリを指定\n",
    "save_dir = os.path.expanduser('~/o_t_hayashilab/complex_networks_2024/figure/')\n",
    "os.makedirs(save_dir, exist_ok=True)  # ディレクトリが存在しない場合は作成\n",
    "# EPS形式で図を保存（フルパスを指定）\n",
    "save_path = os.path.join(save_dir, f\"R^IB.eps\")\n",
    "plt.savefig(save_path, format='eps', bbox_inches='tight')\n",
    "\n",
    "# Show plot\n",
    "plt.show()"
   ],
   "metadata": {
    "collapsed": false,
    "ExecuteTime": {
     "end_time": "2024-09-26T05:07:14.726869561Z",
     "start_time": "2024-09-26T05:07:14.479563769Z"
    }
   },
   "id": "86fa23cb924e635",
   "execution_count": 22
  },
  {
   "cell_type": "code",
   "outputs": [],
   "source": [
    "from scipy.stats import pearsonr\n",
    "# 単相関係数を計算して表示する関数\n",
    "def calculate_and_display_correlation(x_values, y_values, label):\n",
    "    correlation, _ = pearsonr(x_values, y_values)\n",
    "    print(f\"{label} の単相関係数: {correlation:.4f}\")\n",
    "    return correlation"
   ],
   "metadata": {
    "collapsed": false,
    "ExecuteTime": {
     "end_time": "2024-09-26T08:28:46.358026486Z",
     "start_time": "2024-09-26T08:28:46.311667335Z"
    }
   },
   "id": "9bcc2dffc629ffb6",
   "execution_count": 24
  },
  {
   "cell_type": "code",
   "outputs": [
    {
     "name": "stdout",
     "output_type": "stream",
     "text": [
      "SF:rewire の単相関係数: 0.9225\n",
      "ER:rewire の単相関係数: 0.8515\n",
      "SF:config の単相関係数: 0.9095\n",
      "ER:config の単相関係数: 0.8865\n"
     ]
    },
    {
     "data": {
      "text/plain": "<Figure size 640x480 with 1 Axes>",
      "image/png": "[encoded data removed]"
     },
     "metadata": {},
     "output_type": "display_data"
    }
   ],
   "source": [
    "# SF:rewire の散布図と単相関係数\n",
    "correlation_SF_rewire = calculate_and_display_correlation(all_SF_μ[1:], R_SF[1:], label='SF:rewire')\n",
    "plot_correlation(all_SF_μ[1:], R_SF[1:], label='SF:rewire', color='pink', size=75)\n",
    "\n",
    "# ER:rewire の散布図と単相関係数\n",
    "correlation_ER_rewire = calculate_and_display_correlation(all_ER_μ[1:], R_ER[1:], label='ER:rewire')\n",
    "plot_correlation(all_ER_μ[1:], R_ER[1:], label='ER:rewire', color='cyan', size=75)\n",
    "\n",
    "# SF:config の散布図と単相関係数\n",
    "correlation_SF_config = calculate_and_display_correlation(all_SF_config_μ, R_SF_config, label='SF:config')\n",
    "plot_correlation(all_SF_config_μ, R_SF_config, label='SF:config', color='purple', marker='^', size=75)\n",
    "\n",
    "# ER:config の散布図と単相関係数\n",
    "correlation_ER_config = calculate_and_display_correlation(all_ER_config_μ, R_ER_config, label='ER:config')\n",
    "plot_correlation(all_ER_config_μ, R_ER_config, label='ER:config', color='green', marker='^', size=75)\n",
    "\n",
    "# 軸ラベルの設定\n",
    "plt.xlabel(r\"$μ_{2}$\", fontsize=20)\n",
    "plt.ylabel(r\"$R$\", fontsize=20)\n",
    "\n",
    "# x軸の範囲を設定（0から最大値+0.05）\n",
    "plt.xlim(0, max(max(all_SF_μ[1:]), max(all_SF_config_μ), max(all_ER_μ[1:]), max(all_ER_config_μ)) + 0.05)\n",
    "\n",
    "# y軸の範囲を設定（0から最大値+0.05）\n",
    "plt.ylim(0, max(max(R_SF[1:]), max(R_SF_config), max(R_ER[1:]), max(R_ER_config)) + 0.05)\n",
    "\n",
    "# 凡例の設定（上に2×2で配置）\n",
    "plt.legend(loc='upper center', fontsize=14, bbox_to_anchor=(0.5, 1.16), ncol=2)\n",
    "\n",
    "# プロットの表示\n",
    "plt.show()"
   ],
   "metadata": {
    "collapsed": false,
    "ExecuteTime": {
     "end_time": "2024-09-26T08:29:17.758732565Z",
     "start_time": "2024-09-26T08:29:17.631096812Z"
    }
   },
   "id": "a7a78a02b37c8b8b",
   "execution_count": 25
  },
  {
   "cell_type": "code",
   "outputs": [
    {
     "name": "stderr",
     "output_type": "stream",
     "text": [
      "The PostScript backend does not support transparency; partially transparent artists will be rendered opaque.\n"
     ]
    },
    {
     "data": {
      "text/plain": "<Figure size 1000x600 with 1 Axes>",
      "image/png": "[encoded data removed]"
     },
     "metadata": {},
     "output_type": "display_data"
    }
   ],
   "source": [
    "import matplotlib.pyplot as plt\n",
    "\n",
    "# 散布図を作成する関数（点線のプロットを除去）\n",
    "def plot_correlation(x_values, y_values, label, color, marker='o', size=100):  # size引数を追加\n",
    "    plt.scatter(x_values, y_values, label=label, color=color, marker=marker, s=size)\n",
    "\n",
    "# 散布図を作成\n",
    "plt.figure(figsize=(10, 6))\n",
    "\n",
    "# SF:rewire の散布図\n",
    "plot_correlation(all_SF_μ[1:], R_SF[1:], label='SF:rewire', color='pink', size=75)\n",
    "\n",
    "# ER:rewire の散布図\n",
    "plot_correlation(all_ER_μ[1:], R_ER[1:], label='ER:rewire', color='cyan', size=75)\n",
    "\n",
    "# SF:config の散布図\n",
    "plot_correlation(all_SF_config_μ, R_SF_config, label='SF:config', color='purple', marker='^', size=75)\n",
    "\n",
    "# ER:config の散布図\n",
    "plot_correlation(all_ER_config_μ, R_ER_config, label='ER:config', color='green', marker='^', size=75)\n",
    "\n",
    "# 軸ラベルの設定\n",
    "plt.xlabel(r\"$μ_{2}$\", fontsize=20)\n",
    "plt.ylabel(r\"$R$\", fontsize=20)\n",
    "\n",
    "# x軸の範囲を設定（0から最大値+0.05）\n",
    "plt.xlim(0, max(max(all_SF_μ[1:]), max(all_SF_config_μ), max(all_ER_μ[1:]), max(all_ER_config_μ)) + 0.05)\n",
    "\n",
    "# y軸の範囲を設定（0から最大値+0.05）\n",
    "plt.ylim(0, max(max(R_SF[1:]), max(R_SF_config), max(R_ER[1:]), max(R_ER_config)) + 0.05)\n",
    "\n",
    "# 凡例の設定（上に2×2で配置）\n",
    "plt.legend(loc='upper center', fontsize=14, bbox_to_anchor=(0.5, 1.16), ncol=2)\n",
    "\n",
    "# 保存先のディレクトリを指定\n",
    "save_dir = os.path.expanduser('~/o_t_hayashilab/complex_networks_2024/figure/')\n",
    "os.makedirs(save_dir, exist_ok=True)  # ディレクトリが存在しない場合は作成\n",
    "# EPS形式で図を保存（フルパスを指定）\n",
    "save_path = os.path.join(save_dir, f\"mu2_R^IB_correlation.eps\")\n",
    "plt.savefig(save_path, format='eps', bbox_inches='tight')\n",
    "\n",
    "# プロットの表示\n",
    "plt.show()"
   ],
   "metadata": {
    "collapsed": false,
    "ExecuteTime": {
     "end_time": "2024-09-26T05:08:21.414817569Z",
     "start_time": "2024-09-26T05:08:21.179218734Z"
    }
   },
   "id": "cc3417ad1651e3d0",
   "execution_count": 23
  },
  {
   "cell_type": "code",
   "outputs": [],
   "source": [
    "var_SF = []\n",
    "var_ER = []\n",
    "for net in name_list:\n",
    "    for count, recalculate in zip(count_list, recalculate_list):\n",
    "        var = []\n",
    "        if count == recalculate == 0:\n",
    "            for i in range(times):\n",
    "                g = load_graph(f\"~/o_t_hayashilab/complex_networks_2024/Network_data/N={Node}/{net}/initial/{i}.gt.gz\")\n",
    "                                \n",
    "                G = g.copy()\n",
    "                \n",
    "                degrees = G.degree_property_map(\"total\").a\n",
    "                degrees_var = float(np.var(degrees))\n",
    "                \n",
    "                var.append(degrees_var)\n",
    "        \n",
    "            var_avg = np.mean(var, axis=0)\n",
    "            if \"SF\" in net:\n",
    "                var_SF.append(var_avg)\n",
    "            else:\n",
    "                var_ER.append(var_avg)\n",
    "        else:\n",
    "            for i in range(times):\n",
    "                g = load_graph(f\"~/o_t_hayashilab/complex_networks_2024/Network_data/N={Node}/{net}/c={count}_re={recalculate}/{i}.gt.gz\")\n",
    "                \n",
    "                G = g.copy()\n",
    "                \n",
    "                degrees = G.degree_property_map(\"total\").a\n",
    "                degrees_var = float(np.var(degrees))\n",
    "                \n",
    "                var.append(degrees_var)\n",
    "        \n",
    "            var_avg = np.mean(var, axis=0)\n",
    "            if \"SF\" in net:\n",
    "                var_SF.append(var_avg)\n",
    "            else:\n",
    "                var_ER.append(var_avg)"
   ],
   "metadata": {
    "collapsed": false,
    "ExecuteTime": {
     "end_time": "2024-09-25T14:48:44.195513399Z",
     "start_time": "2024-09-25T14:48:42.105692659Z"
    }
   },
   "id": "568f471fd099e70e",
   "execution_count": 15
  },
  {
   "cell_type": "code",
   "outputs": [],
   "source": [
    "var_SF_config = []\n",
    "var_ER_config = []\n",
    "for net in name_list:\n",
    "    for i in range(len(SF_config)):\n",
    "        var = []\n",
    "        for j in range(times):\n",
    "            if \"SF\" in net:\n",
    "                g = SF_config[i][j]\n",
    "                \n",
    "            else:\n",
    "                g = ER_config[i][j]\n",
    "            \n",
    "            G = g.copy()\n",
    "            \n",
    "            degrees = G.degree_property_map(\"total\").a\n",
    "            degrees_var = float(np.var(degrees))\n",
    "            \n",
    "            var.append(degrees_var)\n",
    "    \n",
    "        var_avg = np.mean(var, axis=0)\n",
    "        if \"SF\" in net:\n",
    "            var_SF_config.append(var_avg)\n",
    "        else:\n",
    "            var_ER_config.append(var_avg)"
   ],
   "metadata": {
    "collapsed": false,
    "ExecuteTime": {
     "end_time": "2024-09-25T14:48:44.928592255Z",
     "start_time": "2024-09-25T14:48:44.195171725Z"
    }
   },
   "id": "5825eacf5a428067",
   "execution_count": 16
  },
  {
   "cell_type": "code",
   "outputs": [
    {
     "name": "stdout",
     "output_type": "stream",
     "text": [
      "   l × c         SF         ER\n",
      " initial  27.906364   3.228204\n",
      "1 × 1000  24.980704   2.906624\n",
      " 2 × 500  17.447384   1.066504\n",
      " 5 × 200  13.008944   1.814404\n",
      "10 × 100  15.154064   3.489364\n",
      " 20 × 50  19.365584   7.508984\n",
      " 50 × 20  32.719624  21.698924\n",
      "100 × 10  54.297804  46.348364\n",
      " 200 × 5  97.112784  95.781904\n",
      " 500 × 2 220.608364 241.757124\n",
      "1000 × 1 686.881504 640.073584\n"
     ]
    }
   ],
   "source": [
    "import pandas as pd\n",
    "\n",
    "x_labels = ['initial', '1 × 1000', '2 × 500', '5 × 200', '10 × 100', '20 × 50', '50 × 20', '100 × 10', '200 × 5', '500 × 2', '1000 × 1']\n",
    "\n",
    "# 各データの準備\n",
    "data = {\n",
    "    'l × c': x_labels,\n",
    "    'SF': var_SF,\n",
    "    'ER': var_ER\n",
    "}\n",
    "\n",
    "# DataFrameの作成\n",
    "df = pd.DataFrame(data)\n",
    "\n",
    "# DataFrameをCSVファイルとして保存 (インデックスなし)\n",
    "df.to_csv('data_summary.csv', index=False)\n",
    "\n",
    "# インデックスなしでDataFrameを表示\n",
    "print(df.to_string(index=False))"
   ],
   "metadata": {
    "collapsed": false,
    "ExecuteTime": {
     "end_time": "2024-09-25T14:48:44.929052673Z",
     "start_time": "2024-09-25T14:48:44.881197788Z"
    }
   },
   "id": "3e06cb3442fd137",
   "execution_count": 17
  },
  {
   "cell_type": "code",
   "outputs": [],
   "source": [],
   "metadata": {
    "collapsed": false,
    "ExecuteTime": {
     "end_time": "2024-09-25T14:48:44.930634892Z",
     "start_time": "2024-09-25T14:48:44.924238359Z"
    }
   },
   "id": "d5c706b28759591f",
   "execution_count": 17
  }
 ],
 "metadata": {
  "kernelspec": {
   "display_name": "Python 3",
   "language": "python",
   "name": "python3"
  },
  "language_info": {
   "codemirror_mode": {
    "name": "ipython",
    "version": 2
   },
   "file_extension": ".py",
   "mimetype": "text/x-python",
   "name": "python",
   "nbconvert_exporter": "python",
   "pygments_lexer": "ipython2",
   "version": "2.7.6"
  }
 },
 "nbformat": 4,
 "nbformat_minor": 5
}
