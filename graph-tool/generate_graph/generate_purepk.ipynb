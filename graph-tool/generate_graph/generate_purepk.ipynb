{
 "cells": [
  {
   "cell_type": "code",
   "execution_count": 1,
   "id": "initial_id",
   "metadata": {
    "collapsed": true,
    "ExecuteTime": {
     "end_time": "2025-03-09T09:49:09.813348760Z",
     "start_time": "2025-03-09T09:49:09.307317767Z"
    }
   },
   "outputs": [],
   "source": [
    "from graph_tool.all import *\n",
    "import graph_tool.all as gt\n",
    "import numpy as np\n",
    "import random\n",
    "import os\n",
    "from tqdm import tqdm"
   ]
  },
  {
   "cell_type": "code",
   "outputs": [],
   "source": [
    "def create_network(n, m, beta, seed=None):\n",
    "    if seed is not None:\n",
    "        np.random.seed(seed=seed)\n",
    "\n",
    "    initial_nodes = m + 1\n",
    "    g = gt.complete_graph(initial_nodes, directed=False)\n",
    "    node_list = list(range(initial_nodes))\n",
    "    node_id_property = g.new_vertex_property(\"int\")\n",
    "\n",
    "    for i in range(initial_nodes):\n",
    "        node_id_property[g.vertex(i)] = i\n",
    "\n",
    "    node_id = initial_nodes - 1\n",
    "\n",
    "    # 初期ネットワークの次数リストを作成\n",
    "    K_array_before = [v.out_degree() for v in g.vertices()]\n",
    "\n",
    "    for i in range(initial_nodes, n):\n",
    "\n",
    "        if beta == 0 or beta >= 1:\n",
    "            K_array = np.array(K_array_before) ** beta\n",
    "        elif beta == 1 / 2:\n",
    "            K_array = np.sqrt(np.array(K_array_before))\n",
    "        else:\n",
    "            ipa = abs(beta)\n",
    "            K_array = 1 / np.power(np.array(K_array_before), ipa, dtype=np.float64)\n",
    "\n",
    "        g.add_vertex()\n",
    "        K_array_before.append(0)  # 新しく追加したノードの次数を0で初期化\n",
    "\n",
    "        for _ in range(m):\n",
    "            # 次数に比例した確率ベクトルを生成\n",
    "            s = np.sum(K_array)\n",
    "            parray = K_array / s\n",
    "            parray /= np.sum(parray)  # 確率の合計を1.0に調整\n",
    "\n",
    "            # 次数に比例した確率で既存のノードを選び、エッジとする\n",
    "            cumulative_probs = np.cumsum(parray)\n",
    "            r = random.random()\n",
    "            new = node_list[np.searchsorted(cumulative_probs, r)]\n",
    "\n",
    "            # エッジを追加\n",
    "            g.add_edge(g.vertex(i), g.vertex(new))\n",
    "\n",
    "            K_array_before[i] += 1\n",
    "            K_array_before[new] += 1\n",
    "\n",
    "            # ノードの次数を0に設定（選ばれたノードは次回選ばれないように）\n",
    "            K_array[node_list.index(new)] = 0.\n",
    "\n",
    "        node_list.append(i)\n",
    "        node_id += 1\n",
    "        node_id_property[g.vertex(i)] = node_id\n",
    "\n",
    "    g.vertex_properties[\"node_id\"] = node_id_property\n",
    "    return g"
   ],
   "metadata": {
    "collapsed": false
   },
   "id": "b4e6ec5f6ec50bfd"
  },
  {
   "cell_type": "code",
   "outputs": [],
   "source": [
    "#チェーン構造を解消するためのリワイヤリングコード\n",
    "def rewire_network(g, rewiring_times):\n",
    "    #print(\"random_rewire開始\")\n",
    "    gt.random_rewire(g, model = \"configuration\", n_iter = rewiring_times, edge_sweep=True)\n",
    "    #print(\"random_rewire終了\")\n",
    "    return g"
   ],
   "metadata": {
    "collapsed": false
   },
   "id": "d69e89835539252"
  },
  {
   "cell_type": "code",
   "outputs": [],
   "source": [
    "# Define function to check sum_u\n",
    "def check_sum_u(g, target_sum):\n",
    "    l = gt.label_largest_component(g)\n",
    "    u = gt.GraphView(g, vfilt=l)\n",
    "    sum_u = u.num_vertices()\n",
    "    return sum_u == target_sum"
   ],
   "metadata": {
    "collapsed": false
   },
   "id": "d95dc73b66a7c6f"
  },
  {
   "cell_type": "code",
   "outputs": [],
   "source": [
    "Node = 50000\n",
    "\n",
    "m = 2\n",
    "\n",
    "times = 100\n",
    "\n",
    "#beta_list = [1, 1/2, 0,-1,-3,-5,-10,-20,-50,-100]\n",
    "beta_list =[1, 1/2, 0]"
   ],
   "metadata": {
    "collapsed": false
   },
   "id": "84fa06761a10b730"
  },
  {
   "cell_type": "code",
   "outputs": [],
   "source": [
    "for beta in beta_list:\n",
    "    directory = os.path.expanduser(f\"~/o_t_hayashilab/Network_data/graph-tool/test_pk/N={Node}/m={m}/beta={beta}\")\n",
    "    os.makedirs(directory, exist_ok=True)\n",
    "\n",
    "    for i in tqdm(range(times)):\n",
    "        while True:\n",
    "            g = create_network(Node, m, beta, seed=None)\n",
    "            g = rewire_network(g, Node)\n",
    "            if check_sum_u(g, Node):\n",
    "                filename = os.path.join(directory, f\"{i}.gt.gz\")\n",
    "                g.save(filename)\n",
    "                break\n",
    "            else:\n",
    "                print(\"ランダム化がうまくいきませんでした\")"
   ],
   "metadata": {
    "collapsed": false
   },
   "id": "3b8daed11fc71fd8"
  },
  {
   "cell_type": "code",
   "outputs": [],
   "source": [
    "for beta in beta_list:\n",
    "    for i in range(times):\n",
    "        g = load_graph(f\"~/o_t_hayashilab/Network_data/graph-tool/test_pk/N={Node}/m={m}/beta={beta}/{i}.gt.gz\")\n",
    "        total_loop = 0\n",
    "        multiple_edge = 0\n",
    "        \n",
    "        # グラフ g のすべてのノードとエッジを調査\n",
    "        for v in tqdm(g.vertices()):\n",
    "            # 自己ループの検出\n",
    "            if g.edge(v, v) is not None:\n",
    "                print(f\"ノード {int(g.vp.node_id[v])} に自己ループが存在します。\")\n",
    "                total_loop += 1\n",
    "\n",
    "            # 多重リンクの検出\n",
    "            for u in g.vertices():\n",
    "                if u != v:\n",
    "                    edges = list(g.edge(v, u, all_edges=True))\n",
    "                    if len(edges) > 1:\n",
    "                        print(f\"ノード {int(g.vp.node_id[v])} と {int(g.vp.node_id[u])} の間に多重リンクが存在します。\")\n",
    "                        multiple_edge += 1\n",
    "\n",
    "        print(f\"自己ループは{int(total_loop)}個あります。\")\n",
    "        print(f\"多重リンクは{int(multiple_edge)}個あります。\")"
   ],
   "metadata": {
    "collapsed": false
   },
   "id": "945cbff5478e4b30"
  }
 ],
 "metadata": {
  "kernelspec": {
   "display_name": "Python 3",
   "language": "python",
   "name": "python3"
  },
  "language_info": {
   "codemirror_mode": {
    "name": "ipython",
    "version": 2
   },
   "file_extension": ".py",
   "mimetype": "text/x-python",
   "name": "python",
   "nbconvert_exporter": "python",
   "pygments_lexer": "ipython2",
   "version": "2.7.6"
  }
 },
 "nbformat": 4,
 "nbformat_minor": 5
}
